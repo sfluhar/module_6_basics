{
 "cells": [
  {
   "cell_type": "markdown",
   "metadata": {},
   "source": [
    "# Network analysis of covert social network for the Madoff Fraud"
   ]
  },
  {
   "cell_type": "markdown",
   "metadata": {},
   "source": [
    "Import the necessary modules"
   ]
  },
  {
   "cell_type": "code",
   "execution_count": 1,
   "metadata": {},
   "outputs": [],
   "source": [
    "import pandas as pd\n",
    "import numpy as np\n",
    "import urllib.request as urllib\n",
    "from io import BytesIO\n",
    "from zipfile import ZipFile\n",
    "import networkx as nx\n",
    "import matplotlib.pyplot as plt"
   ]
  },
  {
   "cell_type": "markdown",
   "metadata": {},
   "source": [
    "Provide the link where the file is available"
   ]
  },
  {
   "cell_type": "code",
   "execution_count": 2,
   "metadata": {},
   "outputs": [],
   "source": [
    "url = 'http://www.casos.cs.cmu.edu/tools/datasets/external/madoff/madoff.zip'"
   ]
  },
  {
   "cell_type": "markdown",
   "metadata": {},
   "source": [
    "Open the Zip file, which contains a csv file"
   ]
  },
  {
   "cell_type": "code",
   "execution_count": 3,
   "metadata": {},
   "outputs": [
    {
     "name": "stdout",
     "output_type": "stream",
     "text": [
      "File Name                                             Modified             Size\n",
      "MADOFF.csv                                     2017-01-08 00:46:22        13372\n"
     ]
    }
   ],
   "source": [
    "with urllib.urlopen(url) as stream:\n",
    "    with ZipFile(BytesIO(stream.read())) as archive:\n",
    "        archive.printdir()\n",
    "        txt = archive.read('MADOFF.csv').decode()"
   ]
  },
  {
   "cell_type": "markdown",
   "metadata": {},
   "source": [
    "convert the string into comma separated values"
   ]
  },
  {
   "cell_type": "code",
   "execution_count": 4,
   "metadata": {},
   "outputs": [],
   "source": [
    "comma_sep = txt.split(',')"
   ]
  },
  {
   "cell_type": "markdown",
   "metadata": {},
   "source": [
    "examine the structure of the data"
   ]
  },
  {
   "cell_type": "code",
   "execution_count": 5,
   "metadata": {},
   "outputs": [
    {
     "name": "stdout",
     "output_type": "stream",
     "text": [
      "['\\ufeff\"\"', 'HSBC_Holdings', 'Genevalor_Benbassat', 'Phoenix_Holdings', 'Thema_Fund', 'Herald_Lux_Fund', 'Capital_Bank_Austria', 'Cohmad_securities', 'Bank_Medici', 'UniCredit_SpA', 'Pioneer_Alt_Investments', 'Rothschild_Cie', 'Access_Int_Advisors', 'BNP_Paribas', 'EIM_Group', 'Nipponkoa_Insurance', 'Mirabaud_Cie', 'Zeus_Partners_Ltd', 'Banco_Safra', 'CMG', 'Brighton_Co', 'Avellino_Bienes', 'Neu_Privat_Bank', 'Banco_Santander', 'Optimal_Strategic_US', 'Sumitomo_Life_Ins', 'Fukoku_Mutual_Life', 'Fix_Asset_Mgt', 'Fairfield_Greenwich', 'Nordea_Bank_AB', 'Banque_Benedict_HentchCie', 'Genium_Advisors', 'Great_Eastern_Holdings', 'Prospect_Capital', 'Union_Bancaire_Privee', 'Sterling_Equities', 'Nomura_Holdings', 'Stanford_Capital_Mgt', 'FIM_Advisers', 'M&B_Capital_Advisors', 'Man_Group_PLC', 'Notz_Stucki_Cie', 'Credicorp_Ltd', 'S&P_Investment', 'EFG_International_AG', 'Maxam_Absolute_Return_Fund', 'Tremont_Group_Holdings', 'Opperheimer_Funds', 'Bradean_Alternatives_Lts', 'Rye_Investment_Funds', 'Austin_Capital', 'Meridian_Capital_Partners', 'Banco_Bilbao_Vizcaya_Argentaria', 'Kingate_Global_Fund', 'Kingate_Euro_Fund', 'Ascot_Partners', 'Gabriel_Capital', 'Sterling_Stamos_Capital_Mgt', 'Spring_Mountain_Capital', 'Ariel_Capital', 'Fortis_Bank_Nederland', 'Bernard_Madoff_Investment\\r\\nHSBC_Holdings', '\"\"', '\"\"', '\"\"', '\"\"', '1', '\"\"', '\"\"', '\"\"', '\"\"', '\"\"', '\"\"', '\"\"', '\"\"', '\"\"', '\"\"', '\"\"', '\"\"', '\"\"', '\"\"', '\"\"', '\"\"', '\"\"', '\"\"', '\"\"', '\"\"', '\"\"', '\"\"', '\"\"', '\"\"', '\"\"', '\"\"', '\"\"', '\"\"', '\"\"', '\"\"', '\"\"', '\"\"', '\"\"', '\"\"', '\"\"', '\"\"', '\"\"', '\"\"', '\"\"', '\"\"', '\"\"', '\"\"', '\"\"', '\"\"', '\"\"', '\"\"', '\"\"', '\"\"', '\"\"', '\"\"', '\"\"', '\"\"', '\"\"', '\"\"', '\"\"', '\"\"\\r\\nGenevalor_Benbassat']\n"
     ]
    }
   ],
   "source": [
    "print(comma_sep[:123])"
   ]
  },
  {
   "cell_type": "markdown",
   "metadata": {},
   "source": [
    "confirm the length of each row if the values were placed in a table"
   ]
  },
  {
   "cell_type": "code",
   "execution_count": 6,
   "metadata": {},
   "outputs": [
    {
     "name": "stdout",
     "output_type": "stream",
     "text": [
      "['\"\"\\r\\nBernard_Madoff_Investment', '\"\"', '\"\"', '\"\"', '\"\"', '\"\"', '\"\"', '\"\"', '\"\"', '\"\"', '\"\"', '\"\"', '\"\"', '\"\"', '\"\"', '\"\"', '\"\"', '\"\"', '\"\"', '\"\"', '\"\"', '\"\"', '\"\"', '\"\"', '\"\"', '\"\"', '\"\"', '\"\"', '\"\"', '\"\"', '\"\"', '\"\"', '\"\"', '\"\"', '\"\"', '\"\"', '\"\"', '\"\"', '\"\"', '\"\"', '\"\"', '\"\"', '\"\"', '\"\"', '\"\"', '\"\"', '\"\"', '\"\"', '\"\"', '\"\"', '\"\"', '\"\"', '\"\"', '\"\"', '\"\"', '\"\"', '\"\"', '\"\"', '\"\"', '\"\"', '\"\"', '\"\"\\r\\n']\n"
     ]
    }
   ],
   "source": [
    "print(comma_sep[-62:])"
   ]
  },
  {
   "cell_type": "code",
   "execution_count": 7,
   "metadata": {},
   "outputs": [
    {
     "data": {
      "text/plain": [
       "62.0"
      ]
     },
     "execution_count": 7,
     "metadata": {},
     "output_type": "execute_result"
    }
   ],
   "source": [
    "(len(comma_sep)-1)/61"
   ]
  },
  {
   "cell_type": "markdown",
   "metadata": {},
   "source": [
    "convert the end of row marker into a comma"
   ]
  },
  {
   "cell_type": "code",
   "execution_count": 8,
   "metadata": {},
   "outputs": [],
   "source": [
    "fixed = txt.replace(\"\\r\\n\", \",\")"
   ]
  },
  {
   "cell_type": "markdown",
   "metadata": {},
   "source": [
    "inspect the data in its new format"
   ]
  },
  {
   "cell_type": "code",
   "execution_count": 9,
   "metadata": {},
   "outputs": [],
   "source": [
    "csv_file = fixed.split(',')"
   ]
  },
  {
   "cell_type": "code",
   "execution_count": 10,
   "metadata": {},
   "outputs": [
    {
     "name": "stdout",
     "output_type": "stream",
     "text": [
      "['\\ufeff\"\"', 'HSBC_Holdings', 'Genevalor_Benbassat', 'Phoenix_Holdings', 'Thema_Fund', 'Herald_Lux_Fund', 'Capital_Bank_Austria', 'Cohmad_securities', 'Bank_Medici', 'UniCredit_SpA', 'Pioneer_Alt_Investments', 'Rothschild_Cie', 'Access_Int_Advisors', 'BNP_Paribas', 'EIM_Group', 'Nipponkoa_Insurance', 'Mirabaud_Cie', 'Zeus_Partners_Ltd', 'Banco_Safra', 'CMG', 'Brighton_Co', 'Avellino_Bienes', 'Neu_Privat_Bank', 'Banco_Santander', 'Optimal_Strategic_US', 'Sumitomo_Life_Ins', 'Fukoku_Mutual_Life', 'Fix_Asset_Mgt', 'Fairfield_Greenwich', 'Nordea_Bank_AB', 'Banque_Benedict_HentchCie', 'Genium_Advisors', 'Great_Eastern_Holdings', 'Prospect_Capital', 'Union_Bancaire_Privee', 'Sterling_Equities', 'Nomura_Holdings', 'Stanford_Capital_Mgt', 'FIM_Advisers', 'M&B_Capital_Advisors', 'Man_Group_PLC', 'Notz_Stucki_Cie', 'Credicorp_Ltd', 'S&P_Investment', 'EFG_International_AG', 'Maxam_Absolute_Return_Fund', 'Tremont_Group_Holdings', 'Opperheimer_Funds', 'Bradean_Alternatives_Lts', 'Rye_Investment_Funds', 'Austin_Capital', 'Meridian_Capital_Partners', 'Banco_Bilbao_Vizcaya_Argentaria', 'Kingate_Global_Fund', 'Kingate_Euro_Fund', 'Ascot_Partners', 'Gabriel_Capital', 'Sterling_Stamos_Capital_Mgt', 'Spring_Mountain_Capital', 'Ariel_Capital', 'Fortis_Bank_Nederland', 'Bernard_Madoff_Investment', 'HSBC_Holdings', '\"\"', '\"\"', '\"\"', '\"\"', '1', '\"\"', '\"\"', '\"\"', '\"\"', '\"\"', '\"\"', '\"\"', '\"\"', '\"\"', '\"\"', '\"\"', '\"\"', '\"\"', '\"\"', '\"\"', '\"\"', '\"\"', '\"\"', '\"\"', '\"\"', '\"\"', '\"\"', '\"\"', '\"\"', '\"\"', '\"\"', '\"\"', '\"\"', '\"\"', '\"\"', '\"\"', '\"\"', '\"\"', '\"\"', '\"\"', '\"\"', '\"\"', '\"\"', '\"\"', '\"\"', '\"\"', '\"\"', '\"\"', '\"\"', '\"\"', '\"\"', '\"\"', '\"\"', '\"\"', '\"\"', '\"\"', '\"\"', '\"\"', '\"\"', '\"\"']\n"
     ]
    }
   ],
   "source": [
    "print(csv_file[:123])"
   ]
  },
  {
   "cell_type": "markdown",
   "metadata": {},
   "source": [
    "confirm the number of the rows"
   ]
  },
  {
   "cell_type": "code",
   "execution_count": 11,
   "metadata": {},
   "outputs": [
    {
     "name": "stdout",
     "output_type": "stream",
     "text": [
      "62.0\n"
     ]
    }
   ],
   "source": [
    "rows = (len(csv_file)-1)/62\n",
    "print(rows)"
   ]
  },
  {
   "cell_type": "markdown",
   "metadata": {},
   "source": [
    "inspect the values that will make up the header row"
   ]
  },
  {
   "cell_type": "code",
   "execution_count": 12,
   "metadata": {},
   "outputs": [
    {
     "data": {
      "text/plain": [
       "['\\ufeff\"\"',\n",
       " 'HSBC_Holdings',\n",
       " 'Genevalor_Benbassat',\n",
       " 'Phoenix_Holdings',\n",
       " 'Thema_Fund',\n",
       " 'Herald_Lux_Fund',\n",
       " 'Capital_Bank_Austria',\n",
       " 'Cohmad_securities',\n",
       " 'Bank_Medici',\n",
       " 'UniCredit_SpA',\n",
       " 'Pioneer_Alt_Investments',\n",
       " 'Rothschild_Cie',\n",
       " 'Access_Int_Advisors',\n",
       " 'BNP_Paribas',\n",
       " 'EIM_Group',\n",
       " 'Nipponkoa_Insurance',\n",
       " 'Mirabaud_Cie',\n",
       " 'Zeus_Partners_Ltd',\n",
       " 'Banco_Safra',\n",
       " 'CMG',\n",
       " 'Brighton_Co',\n",
       " 'Avellino_Bienes',\n",
       " 'Neu_Privat_Bank',\n",
       " 'Banco_Santander',\n",
       " 'Optimal_Strategic_US',\n",
       " 'Sumitomo_Life_Ins',\n",
       " 'Fukoku_Mutual_Life',\n",
       " 'Fix_Asset_Mgt',\n",
       " 'Fairfield_Greenwich',\n",
       " 'Nordea_Bank_AB',\n",
       " 'Banque_Benedict_HentchCie',\n",
       " 'Genium_Advisors',\n",
       " 'Great_Eastern_Holdings',\n",
       " 'Prospect_Capital',\n",
       " 'Union_Bancaire_Privee',\n",
       " 'Sterling_Equities',\n",
       " 'Nomura_Holdings',\n",
       " 'Stanford_Capital_Mgt',\n",
       " 'FIM_Advisers',\n",
       " 'M&B_Capital_Advisors',\n",
       " 'Man_Group_PLC',\n",
       " 'Notz_Stucki_Cie',\n",
       " 'Credicorp_Ltd',\n",
       " 'S&P_Investment',\n",
       " 'EFG_International_AG',\n",
       " 'Maxam_Absolute_Return_Fund',\n",
       " 'Tremont_Group_Holdings',\n",
       " 'Opperheimer_Funds',\n",
       " 'Bradean_Alternatives_Lts',\n",
       " 'Rye_Investment_Funds',\n",
       " 'Austin_Capital',\n",
       " 'Meridian_Capital_Partners',\n",
       " 'Banco_Bilbao_Vizcaya_Argentaria',\n",
       " 'Kingate_Global_Fund',\n",
       " 'Kingate_Euro_Fund',\n",
       " 'Ascot_Partners',\n",
       " 'Gabriel_Capital',\n",
       " 'Sterling_Stamos_Capital_Mgt',\n",
       " 'Spring_Mountain_Capital',\n",
       " 'Ariel_Capital',\n",
       " 'Fortis_Bank_Nederland',\n",
       " 'Bernard_Madoff_Investment']"
      ]
     },
     "execution_count": 12,
     "metadata": {},
     "output_type": "execute_result"
    }
   ],
   "source": [
    "csv_file[0:62]"
   ]
  },
  {
   "cell_type": "markdown",
   "metadata": {},
   "source": [
    "create an empty dataframe to hold the rows"
   ]
  },
  {
   "cell_type": "code",
   "execution_count": 13,
   "metadata": {},
   "outputs": [],
   "source": [
    "df = pd.DataFrame(columns=csv_file[0:62])"
   ]
  },
  {
   "cell_type": "code",
   "execution_count": 14,
   "metadata": {},
   "outputs": [
    {
     "data": {
      "text/plain": [
       "(0, 62)"
      ]
     },
     "execution_count": 14,
     "metadata": {},
     "output_type": "execute_result"
    }
   ],
   "source": [
    "df.shape"
   ]
  },
  {
   "cell_type": "markdown",
   "metadata": {},
   "source": [
    "load the dataframe with the rows from the data"
   ]
  },
  {
   "cell_type": "code",
   "execution_count": 15,
   "metadata": {},
   "outputs": [],
   "source": [
    "start = 62\n",
    "end = 124\n",
    "for num in range(int(rows)-1):\n",
    "    row = csv_file[start:end]\n",
    "    df.loc[len(df)] = row\n",
    "    start += 62\n",
    "    end += 62"
   ]
  },
  {
   "cell_type": "markdown",
   "metadata": {},
   "source": [
    "rename the first column"
   ]
  },
  {
   "cell_type": "code",
   "execution_count": 16,
   "metadata": {},
   "outputs": [],
   "source": [
    "names = df.columns.tolist()\n",
    "names[0] = 'firm1'\n",
    "df.columns = names"
   ]
  },
  {
   "cell_type": "markdown",
   "metadata": {},
   "source": [
    "inspect the new dataframe"
   ]
  },
  {
   "cell_type": "code",
   "execution_count": 17,
   "metadata": {},
   "outputs": [
    {
     "data": {
      "text/html": [
       "<div>\n",
       "<style scoped>\n",
       "    .dataframe tbody tr th:only-of-type {\n",
       "        vertical-align: middle;\n",
       "    }\n",
       "\n",
       "    .dataframe tbody tr th {\n",
       "        vertical-align: top;\n",
       "    }\n",
       "\n",
       "    .dataframe thead th {\n",
       "        text-align: right;\n",
       "    }\n",
       "</style>\n",
       "<table border=\"1\" class=\"dataframe\">\n",
       "  <thead>\n",
       "    <tr style=\"text-align: right;\">\n",
       "      <th></th>\n",
       "      <th>firm1</th>\n",
       "      <th>HSBC_Holdings</th>\n",
       "      <th>Genevalor_Benbassat</th>\n",
       "      <th>Phoenix_Holdings</th>\n",
       "      <th>Thema_Fund</th>\n",
       "      <th>Herald_Lux_Fund</th>\n",
       "      <th>Capital_Bank_Austria</th>\n",
       "      <th>Cohmad_securities</th>\n",
       "      <th>Bank_Medici</th>\n",
       "      <th>UniCredit_SpA</th>\n",
       "      <th>...</th>\n",
       "      <th>Banco_Bilbao_Vizcaya_Argentaria</th>\n",
       "      <th>Kingate_Global_Fund</th>\n",
       "      <th>Kingate_Euro_Fund</th>\n",
       "      <th>Ascot_Partners</th>\n",
       "      <th>Gabriel_Capital</th>\n",
       "      <th>Sterling_Stamos_Capital_Mgt</th>\n",
       "      <th>Spring_Mountain_Capital</th>\n",
       "      <th>Ariel_Capital</th>\n",
       "      <th>Fortis_Bank_Nederland</th>\n",
       "      <th>Bernard_Madoff_Investment</th>\n",
       "    </tr>\n",
       "  </thead>\n",
       "  <tbody>\n",
       "    <tr>\n",
       "      <th>0</th>\n",
       "      <td>HSBC_Holdings</td>\n",
       "      <td>\"\"</td>\n",
       "      <td>\"\"</td>\n",
       "      <td>\"\"</td>\n",
       "      <td>\"\"</td>\n",
       "      <td>1</td>\n",
       "      <td>\"\"</td>\n",
       "      <td>\"\"</td>\n",
       "      <td>\"\"</td>\n",
       "      <td>\"\"</td>\n",
       "      <td>...</td>\n",
       "      <td>\"\"</td>\n",
       "      <td>\"\"</td>\n",
       "      <td>\"\"</td>\n",
       "      <td>\"\"</td>\n",
       "      <td>\"\"</td>\n",
       "      <td>\"\"</td>\n",
       "      <td>\"\"</td>\n",
       "      <td>\"\"</td>\n",
       "      <td>\"\"</td>\n",
       "      <td>\"\"</td>\n",
       "    </tr>\n",
       "    <tr>\n",
       "      <th>1</th>\n",
       "      <td>Genevalor_Benbassat</td>\n",
       "      <td>\"\"</td>\n",
       "      <td>\"\"</td>\n",
       "      <td>\"\"</td>\n",
       "      <td>1</td>\n",
       "      <td>\"\"</td>\n",
       "      <td>\"\"</td>\n",
       "      <td>\"\"</td>\n",
       "      <td>\"\"</td>\n",
       "      <td>\"\"</td>\n",
       "      <td>...</td>\n",
       "      <td>\"\"</td>\n",
       "      <td>\"\"</td>\n",
       "      <td>\"\"</td>\n",
       "      <td>\"\"</td>\n",
       "      <td>\"\"</td>\n",
       "      <td>\"\"</td>\n",
       "      <td>\"\"</td>\n",
       "      <td>\"\"</td>\n",
       "      <td>\"\"</td>\n",
       "      <td>\"\"</td>\n",
       "    </tr>\n",
       "    <tr>\n",
       "      <th>2</th>\n",
       "      <td>Phoenix_Holdings</td>\n",
       "      <td>\"\"</td>\n",
       "      <td>\"\"</td>\n",
       "      <td>\"\"</td>\n",
       "      <td>1</td>\n",
       "      <td>\"\"</td>\n",
       "      <td>\"\"</td>\n",
       "      <td>\"\"</td>\n",
       "      <td>\"\"</td>\n",
       "      <td>\"\"</td>\n",
       "      <td>...</td>\n",
       "      <td>\"\"</td>\n",
       "      <td>\"\"</td>\n",
       "      <td>\"\"</td>\n",
       "      <td>\"\"</td>\n",
       "      <td>\"\"</td>\n",
       "      <td>\"\"</td>\n",
       "      <td>\"\"</td>\n",
       "      <td>\"\"</td>\n",
       "      <td>\"\"</td>\n",
       "      <td>\"\"</td>\n",
       "    </tr>\n",
       "    <tr>\n",
       "      <th>3</th>\n",
       "      <td>Thema_Fund</td>\n",
       "      <td>\"\"</td>\n",
       "      <td>\"\"</td>\n",
       "      <td>\"\"</td>\n",
       "      <td>\"\"</td>\n",
       "      <td>\"\"</td>\n",
       "      <td>\"\"</td>\n",
       "      <td>\"\"</td>\n",
       "      <td>1</td>\n",
       "      <td>\"\"</td>\n",
       "      <td>...</td>\n",
       "      <td>\"\"</td>\n",
       "      <td>\"\"</td>\n",
       "      <td>\"\"</td>\n",
       "      <td>\"\"</td>\n",
       "      <td>\"\"</td>\n",
       "      <td>\"\"</td>\n",
       "      <td>\"\"</td>\n",
       "      <td>\"\"</td>\n",
       "      <td>\"\"</td>\n",
       "      <td>\"\"</td>\n",
       "    </tr>\n",
       "    <tr>\n",
       "      <th>4</th>\n",
       "      <td>Herald_Lux_Fund</td>\n",
       "      <td>\"\"</td>\n",
       "      <td>\"\"</td>\n",
       "      <td>\"\"</td>\n",
       "      <td>\"\"</td>\n",
       "      <td>\"\"</td>\n",
       "      <td>\"\"</td>\n",
       "      <td>\"\"</td>\n",
       "      <td>1</td>\n",
       "      <td>\"\"</td>\n",
       "      <td>...</td>\n",
       "      <td>\"\"</td>\n",
       "      <td>\"\"</td>\n",
       "      <td>\"\"</td>\n",
       "      <td>\"\"</td>\n",
       "      <td>\"\"</td>\n",
       "      <td>\"\"</td>\n",
       "      <td>\"\"</td>\n",
       "      <td>\"\"</td>\n",
       "      <td>\"\"</td>\n",
       "      <td>\"\"</td>\n",
       "    </tr>\n",
       "  </tbody>\n",
       "</table>\n",
       "<p>5 rows × 62 columns</p>\n",
       "</div>"
      ],
      "text/plain": [
       "                 firm1 HSBC_Holdings Genevalor_Benbassat Phoenix_Holdings  \\\n",
       "0        HSBC_Holdings            \"\"                  \"\"               \"\"   \n",
       "1  Genevalor_Benbassat            \"\"                  \"\"               \"\"   \n",
       "2     Phoenix_Holdings            \"\"                  \"\"               \"\"   \n",
       "3           Thema_Fund            \"\"                  \"\"               \"\"   \n",
       "4      Herald_Lux_Fund            \"\"                  \"\"               \"\"   \n",
       "\n",
       "  Thema_Fund Herald_Lux_Fund Capital_Bank_Austria Cohmad_securities  \\\n",
       "0         \"\"               1                   \"\"                \"\"   \n",
       "1          1              \"\"                   \"\"                \"\"   \n",
       "2          1              \"\"                   \"\"                \"\"   \n",
       "3         \"\"              \"\"                   \"\"                \"\"   \n",
       "4         \"\"              \"\"                   \"\"                \"\"   \n",
       "\n",
       "  Bank_Medici UniCredit_SpA  ... Banco_Bilbao_Vizcaya_Argentaria  \\\n",
       "0          \"\"            \"\"  ...                              \"\"   \n",
       "1          \"\"            \"\"  ...                              \"\"   \n",
       "2          \"\"            \"\"  ...                              \"\"   \n",
       "3           1            \"\"  ...                              \"\"   \n",
       "4           1            \"\"  ...                              \"\"   \n",
       "\n",
       "  Kingate_Global_Fund Kingate_Euro_Fund Ascot_Partners Gabriel_Capital  \\\n",
       "0                  \"\"                \"\"             \"\"              \"\"   \n",
       "1                  \"\"                \"\"             \"\"              \"\"   \n",
       "2                  \"\"                \"\"             \"\"              \"\"   \n",
       "3                  \"\"                \"\"             \"\"              \"\"   \n",
       "4                  \"\"                \"\"             \"\"              \"\"   \n",
       "\n",
       "  Sterling_Stamos_Capital_Mgt Spring_Mountain_Capital Ariel_Capital  \\\n",
       "0                          \"\"                      \"\"            \"\"   \n",
       "1                          \"\"                      \"\"            \"\"   \n",
       "2                          \"\"                      \"\"            \"\"   \n",
       "3                          \"\"                      \"\"            \"\"   \n",
       "4                          \"\"                      \"\"            \"\"   \n",
       "\n",
       "  Fortis_Bank_Nederland Bernard_Madoff_Investment  \n",
       "0                    \"\"                        \"\"  \n",
       "1                    \"\"                        \"\"  \n",
       "2                    \"\"                        \"\"  \n",
       "3                    \"\"                        \"\"  \n",
       "4                    \"\"                        \"\"  \n",
       "\n",
       "[5 rows x 62 columns]"
      ]
     },
     "execution_count": 17,
     "metadata": {},
     "output_type": "execute_result"
    }
   ],
   "source": [
    "df.head()"
   ]
  },
  {
   "cell_type": "code",
   "execution_count": 18,
   "metadata": {},
   "outputs": [
    {
     "data": {
      "text/html": [
       "<div>\n",
       "<style scoped>\n",
       "    .dataframe tbody tr th:only-of-type {\n",
       "        vertical-align: middle;\n",
       "    }\n",
       "\n",
       "    .dataframe tbody tr th {\n",
       "        vertical-align: top;\n",
       "    }\n",
       "\n",
       "    .dataframe thead th {\n",
       "        text-align: right;\n",
       "    }\n",
       "</style>\n",
       "<table border=\"1\" class=\"dataframe\">\n",
       "  <thead>\n",
       "    <tr style=\"text-align: right;\">\n",
       "      <th></th>\n",
       "      <th>firm1</th>\n",
       "      <th>HSBC_Holdings</th>\n",
       "      <th>Genevalor_Benbassat</th>\n",
       "      <th>Phoenix_Holdings</th>\n",
       "      <th>Thema_Fund</th>\n",
       "      <th>Herald_Lux_Fund</th>\n",
       "      <th>Capital_Bank_Austria</th>\n",
       "      <th>Cohmad_securities</th>\n",
       "      <th>Bank_Medici</th>\n",
       "      <th>UniCredit_SpA</th>\n",
       "      <th>...</th>\n",
       "      <th>Banco_Bilbao_Vizcaya_Argentaria</th>\n",
       "      <th>Kingate_Global_Fund</th>\n",
       "      <th>Kingate_Euro_Fund</th>\n",
       "      <th>Ascot_Partners</th>\n",
       "      <th>Gabriel_Capital</th>\n",
       "      <th>Sterling_Stamos_Capital_Mgt</th>\n",
       "      <th>Spring_Mountain_Capital</th>\n",
       "      <th>Ariel_Capital</th>\n",
       "      <th>Fortis_Bank_Nederland</th>\n",
       "      <th>Bernard_Madoff_Investment</th>\n",
       "    </tr>\n",
       "  </thead>\n",
       "  <tbody>\n",
       "    <tr>\n",
       "      <th>56</th>\n",
       "      <td>Sterling_Stamos_Capital_Mgt</td>\n",
       "      <td>\"\"</td>\n",
       "      <td>\"\"</td>\n",
       "      <td>\"\"</td>\n",
       "      <td>\"\"</td>\n",
       "      <td>\"\"</td>\n",
       "      <td>\"\"</td>\n",
       "      <td>\"\"</td>\n",
       "      <td>\"\"</td>\n",
       "      <td>\"\"</td>\n",
       "      <td>...</td>\n",
       "      <td>\"\"</td>\n",
       "      <td>\"\"</td>\n",
       "      <td>\"\"</td>\n",
       "      <td>\"\"</td>\n",
       "      <td>1</td>\n",
       "      <td>\"\"</td>\n",
       "      <td>\"\"</td>\n",
       "      <td>\"\"</td>\n",
       "      <td>\"\"</td>\n",
       "      <td>\"\"</td>\n",
       "    </tr>\n",
       "    <tr>\n",
       "      <th>57</th>\n",
       "      <td>Spring_Mountain_Capital</td>\n",
       "      <td>\"\"</td>\n",
       "      <td>\"\"</td>\n",
       "      <td>\"\"</td>\n",
       "      <td>\"\"</td>\n",
       "      <td>\"\"</td>\n",
       "      <td>\"\"</td>\n",
       "      <td>\"\"</td>\n",
       "      <td>\"\"</td>\n",
       "      <td>\"\"</td>\n",
       "      <td>...</td>\n",
       "      <td>\"\"</td>\n",
       "      <td>\"\"</td>\n",
       "      <td>\"\"</td>\n",
       "      <td>\"\"</td>\n",
       "      <td>1</td>\n",
       "      <td>\"\"</td>\n",
       "      <td>\"\"</td>\n",
       "      <td>\"\"</td>\n",
       "      <td>\"\"</td>\n",
       "      <td>\"\"</td>\n",
       "    </tr>\n",
       "    <tr>\n",
       "      <th>58</th>\n",
       "      <td>Ariel_Capital</td>\n",
       "      <td>\"\"</td>\n",
       "      <td>\"\"</td>\n",
       "      <td>\"\"</td>\n",
       "      <td>\"\"</td>\n",
       "      <td>\"\"</td>\n",
       "      <td>\"\"</td>\n",
       "      <td>\"\"</td>\n",
       "      <td>\"\"</td>\n",
       "      <td>\"\"</td>\n",
       "      <td>...</td>\n",
       "      <td>\"\"</td>\n",
       "      <td>\"\"</td>\n",
       "      <td>\"\"</td>\n",
       "      <td>\"\"</td>\n",
       "      <td>1</td>\n",
       "      <td>\"\"</td>\n",
       "      <td>\"\"</td>\n",
       "      <td>\"\"</td>\n",
       "      <td>\"\"</td>\n",
       "      <td>\"\"</td>\n",
       "    </tr>\n",
       "    <tr>\n",
       "      <th>59</th>\n",
       "      <td>Fortis_Bank_Nederland</td>\n",
       "      <td>\"\"</td>\n",
       "      <td>\"\"</td>\n",
       "      <td>\"\"</td>\n",
       "      <td>\"\"</td>\n",
       "      <td>\"\"</td>\n",
       "      <td>\"\"</td>\n",
       "      <td>\"\"</td>\n",
       "      <td>\"\"</td>\n",
       "      <td>\"\"</td>\n",
       "      <td>...</td>\n",
       "      <td>\"\"</td>\n",
       "      <td>\"\"</td>\n",
       "      <td>\"\"</td>\n",
       "      <td>\"\"</td>\n",
       "      <td>\"\"</td>\n",
       "      <td>\"\"</td>\n",
       "      <td>\"\"</td>\n",
       "      <td>1</td>\n",
       "      <td>\"\"</td>\n",
       "      <td>\"\"</td>\n",
       "    </tr>\n",
       "    <tr>\n",
       "      <th>60</th>\n",
       "      <td>Bernard_Madoff_Investment</td>\n",
       "      <td>\"\"</td>\n",
       "      <td>\"\"</td>\n",
       "      <td>\"\"</td>\n",
       "      <td>\"\"</td>\n",
       "      <td>\"\"</td>\n",
       "      <td>\"\"</td>\n",
       "      <td>\"\"</td>\n",
       "      <td>\"\"</td>\n",
       "      <td>\"\"</td>\n",
       "      <td>...</td>\n",
       "      <td>\"\"</td>\n",
       "      <td>\"\"</td>\n",
       "      <td>\"\"</td>\n",
       "      <td>\"\"</td>\n",
       "      <td>\"\"</td>\n",
       "      <td>\"\"</td>\n",
       "      <td>\"\"</td>\n",
       "      <td>\"\"</td>\n",
       "      <td>\"\"</td>\n",
       "      <td>\"\"</td>\n",
       "    </tr>\n",
       "  </tbody>\n",
       "</table>\n",
       "<p>5 rows × 62 columns</p>\n",
       "</div>"
      ],
      "text/plain": [
       "                          firm1 HSBC_Holdings Genevalor_Benbassat  \\\n",
       "56  Sterling_Stamos_Capital_Mgt            \"\"                  \"\"   \n",
       "57      Spring_Mountain_Capital            \"\"                  \"\"   \n",
       "58                Ariel_Capital            \"\"                  \"\"   \n",
       "59        Fortis_Bank_Nederland            \"\"                  \"\"   \n",
       "60    Bernard_Madoff_Investment            \"\"                  \"\"   \n",
       "\n",
       "   Phoenix_Holdings Thema_Fund Herald_Lux_Fund Capital_Bank_Austria  \\\n",
       "56               \"\"         \"\"              \"\"                   \"\"   \n",
       "57               \"\"         \"\"              \"\"                   \"\"   \n",
       "58               \"\"         \"\"              \"\"                   \"\"   \n",
       "59               \"\"         \"\"              \"\"                   \"\"   \n",
       "60               \"\"         \"\"              \"\"                   \"\"   \n",
       "\n",
       "   Cohmad_securities Bank_Medici UniCredit_SpA  ...  \\\n",
       "56                \"\"          \"\"            \"\"  ...   \n",
       "57                \"\"          \"\"            \"\"  ...   \n",
       "58                \"\"          \"\"            \"\"  ...   \n",
       "59                \"\"          \"\"            \"\"  ...   \n",
       "60                \"\"          \"\"            \"\"  ...   \n",
       "\n",
       "   Banco_Bilbao_Vizcaya_Argentaria Kingate_Global_Fund Kingate_Euro_Fund  \\\n",
       "56                              \"\"                  \"\"                \"\"   \n",
       "57                              \"\"                  \"\"                \"\"   \n",
       "58                              \"\"                  \"\"                \"\"   \n",
       "59                              \"\"                  \"\"                \"\"   \n",
       "60                              \"\"                  \"\"                \"\"   \n",
       "\n",
       "   Ascot_Partners Gabriel_Capital Sterling_Stamos_Capital_Mgt  \\\n",
       "56             \"\"               1                          \"\"   \n",
       "57             \"\"               1                          \"\"   \n",
       "58             \"\"               1                          \"\"   \n",
       "59             \"\"              \"\"                          \"\"   \n",
       "60             \"\"              \"\"                          \"\"   \n",
       "\n",
       "   Spring_Mountain_Capital Ariel_Capital Fortis_Bank_Nederland  \\\n",
       "56                      \"\"            \"\"                    \"\"   \n",
       "57                      \"\"            \"\"                    \"\"   \n",
       "58                      \"\"            \"\"                    \"\"   \n",
       "59                      \"\"             1                    \"\"   \n",
       "60                      \"\"            \"\"                    \"\"   \n",
       "\n",
       "   Bernard_Madoff_Investment  \n",
       "56                        \"\"  \n",
       "57                        \"\"  \n",
       "58                        \"\"  \n",
       "59                        \"\"  \n",
       "60                        \"\"  \n",
       "\n",
       "[5 rows x 62 columns]"
      ]
     },
     "execution_count": 18,
     "metadata": {},
     "output_type": "execute_result"
    }
   ],
   "source": [
    "df.tail()"
   ]
  },
  {
   "cell_type": "markdown",
   "metadata": {},
   "source": [
    "transform the dataframe into three columns, to show the relationships between firms"
   ]
  },
  {
   "cell_type": "code",
   "execution_count": 19,
   "metadata": {},
   "outputs": [],
   "source": [
    "melted_df = df.melt('firm1', var_name='firm2', value_name='relationship')"
   ]
  },
  {
   "cell_type": "markdown",
   "metadata": {},
   "source": [
    "convert the relationship into a binary flag"
   ]
  },
  {
   "cell_type": "code",
   "execution_count": 20,
   "metadata": {},
   "outputs": [],
   "source": [
    "melted_df['relationship'] = pd.to_numeric(melted_df['relationship'], errors='coerce')"
   ]
  },
  {
   "cell_type": "code",
   "execution_count": 21,
   "metadata": {},
   "outputs": [],
   "source": [
    "melted_df = melted_df.replace(np.nan,0)"
   ]
  },
  {
   "cell_type": "code",
   "execution_count": 22,
   "metadata": {},
   "outputs": [
    {
     "data": {
      "text/html": [
       "<div>\n",
       "<style scoped>\n",
       "    .dataframe tbody tr th:only-of-type {\n",
       "        vertical-align: middle;\n",
       "    }\n",
       "\n",
       "    .dataframe tbody tr th {\n",
       "        vertical-align: top;\n",
       "    }\n",
       "\n",
       "    .dataframe thead th {\n",
       "        text-align: right;\n",
       "    }\n",
       "</style>\n",
       "<table border=\"1\" class=\"dataframe\">\n",
       "  <thead>\n",
       "    <tr style=\"text-align: right;\">\n",
       "      <th></th>\n",
       "      <th>firm1</th>\n",
       "      <th>firm2</th>\n",
       "      <th>relationship</th>\n",
       "    </tr>\n",
       "  </thead>\n",
       "  <tbody>\n",
       "    <tr>\n",
       "      <th>0</th>\n",
       "      <td>HSBC_Holdings</td>\n",
       "      <td>HSBC_Holdings</td>\n",
       "      <td>0.0</td>\n",
       "    </tr>\n",
       "    <tr>\n",
       "      <th>1</th>\n",
       "      <td>Genevalor_Benbassat</td>\n",
       "      <td>HSBC_Holdings</td>\n",
       "      <td>0.0</td>\n",
       "    </tr>\n",
       "    <tr>\n",
       "      <th>2</th>\n",
       "      <td>Phoenix_Holdings</td>\n",
       "      <td>HSBC_Holdings</td>\n",
       "      <td>0.0</td>\n",
       "    </tr>\n",
       "    <tr>\n",
       "      <th>3</th>\n",
       "      <td>Thema_Fund</td>\n",
       "      <td>HSBC_Holdings</td>\n",
       "      <td>0.0</td>\n",
       "    </tr>\n",
       "    <tr>\n",
       "      <th>4</th>\n",
       "      <td>Herald_Lux_Fund</td>\n",
       "      <td>HSBC_Holdings</td>\n",
       "      <td>0.0</td>\n",
       "    </tr>\n",
       "  </tbody>\n",
       "</table>\n",
       "</div>"
      ],
      "text/plain": [
       "                 firm1          firm2  relationship\n",
       "0        HSBC_Holdings  HSBC_Holdings           0.0\n",
       "1  Genevalor_Benbassat  HSBC_Holdings           0.0\n",
       "2     Phoenix_Holdings  HSBC_Holdings           0.0\n",
       "3           Thema_Fund  HSBC_Holdings           0.0\n",
       "4      Herald_Lux_Fund  HSBC_Holdings           0.0"
      ]
     },
     "execution_count": 22,
     "metadata": {},
     "output_type": "execute_result"
    }
   ],
   "source": [
    "melted_df.head()"
   ]
  },
  {
   "cell_type": "code",
   "execution_count": 23,
   "metadata": {},
   "outputs": [
    {
     "name": "stdout",
     "output_type": "stream",
     "text": [
      "<class 'pandas.core.frame.DataFrame'>\n",
      "RangeIndex: 3721 entries, 0 to 3720\n",
      "Data columns (total 3 columns):\n",
      " #   Column        Non-Null Count  Dtype  \n",
      "---  ------        --------------  -----  \n",
      " 0   firm1         3721 non-null   object \n",
      " 1   firm2         3721 non-null   object \n",
      " 2   relationship  3721 non-null   float64\n",
      "dtypes: float64(1), object(2)\n",
      "memory usage: 87.3+ KB\n"
     ]
    }
   ],
   "source": [
    "melted_df.info()"
   ]
  },
  {
   "cell_type": "code",
   "execution_count": 24,
   "metadata": {},
   "outputs": [
    {
     "data": {
      "text/html": [
       "<div>\n",
       "<style scoped>\n",
       "    .dataframe tbody tr th:only-of-type {\n",
       "        vertical-align: middle;\n",
       "    }\n",
       "\n",
       "    .dataframe tbody tr th {\n",
       "        vertical-align: top;\n",
       "    }\n",
       "\n",
       "    .dataframe thead th {\n",
       "        text-align: right;\n",
       "    }\n",
       "</style>\n",
       "<table border=\"1\" class=\"dataframe\">\n",
       "  <thead>\n",
       "    <tr style=\"text-align: right;\">\n",
       "      <th></th>\n",
       "      <th>relationship</th>\n",
       "    </tr>\n",
       "  </thead>\n",
       "  <tbody>\n",
       "    <tr>\n",
       "      <th>count</th>\n",
       "      <td>3721.000000</td>\n",
       "    </tr>\n",
       "    <tr>\n",
       "      <th>mean</th>\n",
       "      <td>0.016393</td>\n",
       "    </tr>\n",
       "    <tr>\n",
       "      <th>std</th>\n",
       "      <td>0.127000</td>\n",
       "    </tr>\n",
       "    <tr>\n",
       "      <th>min</th>\n",
       "      <td>0.000000</td>\n",
       "    </tr>\n",
       "    <tr>\n",
       "      <th>25%</th>\n",
       "      <td>0.000000</td>\n",
       "    </tr>\n",
       "    <tr>\n",
       "      <th>50%</th>\n",
       "      <td>0.000000</td>\n",
       "    </tr>\n",
       "    <tr>\n",
       "      <th>75%</th>\n",
       "      <td>0.000000</td>\n",
       "    </tr>\n",
       "    <tr>\n",
       "      <th>max</th>\n",
       "      <td>1.000000</td>\n",
       "    </tr>\n",
       "  </tbody>\n",
       "</table>\n",
       "</div>"
      ],
      "text/plain": [
       "       relationship\n",
       "count   3721.000000\n",
       "mean       0.016393\n",
       "std        0.127000\n",
       "min        0.000000\n",
       "25%        0.000000\n",
       "50%        0.000000\n",
       "75%        0.000000\n",
       "max        1.000000"
      ]
     },
     "execution_count": 24,
     "metadata": {},
     "output_type": "execute_result"
    }
   ],
   "source": [
    "melted_df.describe()"
   ]
  },
  {
   "cell_type": "markdown",
   "metadata": {},
   "source": [
    "look for patterns in the sending firm"
   ]
  },
  {
   "cell_type": "code",
   "execution_count": 78,
   "metadata": {},
   "outputs": [
    {
     "name": "stderr",
     "output_type": "stream",
     "text": [
      "C:\\Users\\Sterling\\AppData\\Local\\Temp\\ipykernel_16856\\2082119920.py:1: FutureWarning: The default value of numeric_only in DataFrameGroupBy.sum is deprecated. In a future version, numeric_only will default to False. Either specify numeric_only or select only columns which should be valid for the function.\n",
      "  senders = melted_copy.groupby('firm1').sum().reset_index()\n"
     ]
    },
    {
     "data": {
      "text/html": [
       "<div>\n",
       "<style scoped>\n",
       "    .dataframe tbody tr th:only-of-type {\n",
       "        vertical-align: middle;\n",
       "    }\n",
       "\n",
       "    .dataframe tbody tr th {\n",
       "        vertical-align: top;\n",
       "    }\n",
       "\n",
       "    .dataframe thead th {\n",
       "        text-align: right;\n",
       "    }\n",
       "</style>\n",
       "<table border=\"1\" class=\"dataframe\">\n",
       "  <thead>\n",
       "    <tr style=\"text-align: right;\">\n",
       "      <th></th>\n",
       "      <th>firm1</th>\n",
       "      <th>relationships</th>\n",
       "    </tr>\n",
       "  </thead>\n",
       "  <tbody>\n",
       "    <tr>\n",
       "      <th>16</th>\n",
       "      <td>Cohmad_securities</td>\n",
       "      <td>2.0</td>\n",
       "    </tr>\n",
       "    <tr>\n",
       "      <th>0</th>\n",
       "      <td>Access_Int_Advisors</td>\n",
       "      <td>1.0</td>\n",
       "    </tr>\n",
       "    <tr>\n",
       "      <th>33</th>\n",
       "      <td>M&amp;B_Capital_Advisors</td>\n",
       "      <td>1.0</td>\n",
       "    </tr>\n",
       "    <tr>\n",
       "      <th>34</th>\n",
       "      <td>Man_Group_PLC</td>\n",
       "      <td>1.0</td>\n",
       "    </tr>\n",
       "    <tr>\n",
       "      <th>35</th>\n",
       "      <td>Maxam_Absolute_Return_Fund</td>\n",
       "      <td>1.0</td>\n",
       "    </tr>\n",
       "    <tr>\n",
       "      <th>...</th>\n",
       "      <td>...</td>\n",
       "      <td>...</td>\n",
       "    </tr>\n",
       "    <tr>\n",
       "      <th>26</th>\n",
       "      <td>Genevalor_Benbassat</td>\n",
       "      <td>1.0</td>\n",
       "    </tr>\n",
       "    <tr>\n",
       "      <th>27</th>\n",
       "      <td>Genium_Advisors</td>\n",
       "      <td>1.0</td>\n",
       "    </tr>\n",
       "    <tr>\n",
       "      <th>28</th>\n",
       "      <td>Great_Eastern_Holdings</td>\n",
       "      <td>1.0</td>\n",
       "    </tr>\n",
       "    <tr>\n",
       "      <th>60</th>\n",
       "      <td>Zeus_Partners_Ltd</td>\n",
       "      <td>1.0</td>\n",
       "    </tr>\n",
       "    <tr>\n",
       "      <th>11</th>\n",
       "      <td>Bernard_Madoff_Investment</td>\n",
       "      <td>0.0</td>\n",
       "    </tr>\n",
       "  </tbody>\n",
       "</table>\n",
       "<p>61 rows × 2 columns</p>\n",
       "</div>"
      ],
      "text/plain": [
       "                         firm1  relationships\n",
       "16           Cohmad_securities            2.0\n",
       "0          Access_Int_Advisors            1.0\n",
       "33        M&B_Capital_Advisors            1.0\n",
       "34               Man_Group_PLC            1.0\n",
       "35  Maxam_Absolute_Return_Fund            1.0\n",
       "..                         ...            ...\n",
       "26         Genevalor_Benbassat            1.0\n",
       "27             Genium_Advisors            1.0\n",
       "28      Great_Eastern_Holdings            1.0\n",
       "60           Zeus_Partners_Ltd            1.0\n",
       "11   Bernard_Madoff_Investment            0.0\n",
       "\n",
       "[61 rows x 2 columns]"
      ]
     },
     "execution_count": 78,
     "metadata": {},
     "output_type": "execute_result"
    }
   ],
   "source": [
    "senders = melted_df.groupby('firm1').sum().reset_index()\n",
    "senders.columns = ['firm1','relationships']\n",
    "senders.sort_values('relationships', ascending=False)"
   ]
  },
  {
   "cell_type": "markdown",
   "metadata": {},
   "source": [
    "preview any patterns in the receiving firm"
   ]
  },
  {
   "cell_type": "code",
   "execution_count": 26,
   "metadata": {},
   "outputs": [
    {
     "name": "stderr",
     "output_type": "stream",
     "text": [
      "C:\\Users\\Sterling\\AppData\\Local\\Temp\\ipykernel_16856\\2716391413.py:1: FutureWarning: The default value of numeric_only in DataFrameGroupBy.sum is deprecated. In a future version, numeric_only will default to False. Either specify numeric_only or select only columns which should be valid for the function.\n",
      "  receivers = melted_df.groupby('firm2').sum().reset_index()\n"
     ]
    },
    {
     "data": {
      "text/html": [
       "<div>\n",
       "<style scoped>\n",
       "    .dataframe tbody tr th:only-of-type {\n",
       "        vertical-align: middle;\n",
       "    }\n",
       "\n",
       "    .dataframe tbody tr th {\n",
       "        vertical-align: top;\n",
       "    }\n",
       "\n",
       "    .dataframe thead th {\n",
       "        text-align: right;\n",
       "    }\n",
       "</style>\n",
       "<table border=\"1\" class=\"dataframe\">\n",
       "  <thead>\n",
       "    <tr style=\"text-align: right;\">\n",
       "      <th></th>\n",
       "      <th>firm2</th>\n",
       "      <th>relationships</th>\n",
       "    </tr>\n",
       "  </thead>\n",
       "  <tbody>\n",
       "    <tr>\n",
       "      <th>11</th>\n",
       "      <td>Bernard_Madoff_Investment</td>\n",
       "      <td>27.0</td>\n",
       "    </tr>\n",
       "    <tr>\n",
       "      <th>9</th>\n",
       "      <td>Bank_Medici</td>\n",
       "      <td>6.0</td>\n",
       "    </tr>\n",
       "    <tr>\n",
       "      <th>21</th>\n",
       "      <td>Fairfield_Greenwich</td>\n",
       "      <td>6.0</td>\n",
       "    </tr>\n",
       "    <tr>\n",
       "      <th>25</th>\n",
       "      <td>Gabriel_Capital</td>\n",
       "      <td>4.0</td>\n",
       "    </tr>\n",
       "    <tr>\n",
       "      <th>57</th>\n",
       "      <td>Tremont_Group_Holdings</td>\n",
       "      <td>3.0</td>\n",
       "    </tr>\n",
       "    <tr>\n",
       "      <th>...</th>\n",
       "      <td>...</td>\n",
       "      <td>...</td>\n",
       "    </tr>\n",
       "    <tr>\n",
       "      <th>6</th>\n",
       "      <td>Banco_Bilbao_Vizcaya_Argentaria</td>\n",
       "      <td>0.0</td>\n",
       "    </tr>\n",
       "    <tr>\n",
       "      <th>33</th>\n",
       "      <td>M&amp;B_Capital_Advisors</td>\n",
       "      <td>0.0</td>\n",
       "    </tr>\n",
       "    <tr>\n",
       "      <th>34</th>\n",
       "      <td>Man_Group_PLC</td>\n",
       "      <td>0.0</td>\n",
       "    </tr>\n",
       "    <tr>\n",
       "      <th>35</th>\n",
       "      <td>Maxam_Absolute_Return_Fund</td>\n",
       "      <td>0.0</td>\n",
       "    </tr>\n",
       "    <tr>\n",
       "      <th>37</th>\n",
       "      <td>Mirabaud_Cie</td>\n",
       "      <td>0.0</td>\n",
       "    </tr>\n",
       "  </tbody>\n",
       "</table>\n",
       "<p>61 rows × 2 columns</p>\n",
       "</div>"
      ],
      "text/plain": [
       "                              firm2  relationships\n",
       "11        Bernard_Madoff_Investment           27.0\n",
       "9                       Bank_Medici            6.0\n",
       "21              Fairfield_Greenwich            6.0\n",
       "25                  Gabriel_Capital            4.0\n",
       "57           Tremont_Group_Holdings            3.0\n",
       "..                              ...            ...\n",
       "6   Banco_Bilbao_Vizcaya_Argentaria            0.0\n",
       "33             M&B_Capital_Advisors            0.0\n",
       "34                    Man_Group_PLC            0.0\n",
       "35       Maxam_Absolute_Return_Fund            0.0\n",
       "37                     Mirabaud_Cie            0.0\n",
       "\n",
       "[61 rows x 2 columns]"
      ]
     },
     "execution_count": 26,
     "metadata": {},
     "output_type": "execute_result"
    }
   ],
   "source": [
    "receivers = melted_df.groupby('firm2').sum().reset_index()\n",
    "receivers.columns = ['firm2','relationships']\n",
    "receivers.sort_values('relationships', ascending=False)"
   ]
  },
  {
   "cell_type": "code",
   "execution_count": 27,
   "metadata": {},
   "outputs": [
    {
     "data": {
      "text/plain": [
       "61.0"
      ]
     },
     "execution_count": 27,
     "metadata": {},
     "output_type": "execute_result"
    }
   ],
   "source": [
    "melted_df['relationship'].values.sum()"
   ]
  },
  {
   "cell_type": "code",
   "execution_count": 28,
   "metadata": {},
   "outputs": [],
   "source": [
    "melted_sorted = melted_df.sort_values('relationship', ascending=False)"
   ]
  },
  {
   "cell_type": "code",
   "execution_count": 29,
   "metadata": {},
   "outputs": [
    {
     "data": {
      "text/html": [
       "<div>\n",
       "<style scoped>\n",
       "    .dataframe tbody tr th:only-of-type {\n",
       "        vertical-align: middle;\n",
       "    }\n",
       "\n",
       "    .dataframe tbody tr th {\n",
       "        vertical-align: top;\n",
       "    }\n",
       "\n",
       "    .dataframe thead th {\n",
       "        text-align: right;\n",
       "    }\n",
       "</style>\n",
       "<table border=\"1\" class=\"dataframe\">\n",
       "  <thead>\n",
       "    <tr style=\"text-align: right;\">\n",
       "      <th></th>\n",
       "      <th>firm1</th>\n",
       "      <th>firm2</th>\n",
       "      <th>relationship</th>\n",
       "    </tr>\n",
       "  </thead>\n",
       "  <tbody>\n",
       "    <tr>\n",
       "      <th>3684</th>\n",
       "      <td>Sumitomo_Life_Ins</td>\n",
       "      <td>Bernard_Madoff_Investment</td>\n",
       "      <td>1.0</td>\n",
       "    </tr>\n",
       "    <tr>\n",
       "      <th>3676</th>\n",
       "      <td>Zeus_Partners_Ltd</td>\n",
       "      <td>Bernard_Madoff_Investment</td>\n",
       "      <td>1.0</td>\n",
       "    </tr>\n",
       "    <tr>\n",
       "      <th>1680</th>\n",
       "      <td>Union_Bancaire_Privee</td>\n",
       "      <td>Fairfield_Greenwich</td>\n",
       "      <td>1.0</td>\n",
       "    </tr>\n",
       "    <tr>\n",
       "      <th>3671</th>\n",
       "      <td>Access_Int_Advisors</td>\n",
       "      <td>Bernard_Madoff_Investment</td>\n",
       "      <td>1.0</td>\n",
       "    </tr>\n",
       "    <tr>\n",
       "      <th>3672</th>\n",
       "      <td>BNP_Paribas</td>\n",
       "      <td>Bernard_Madoff_Investment</td>\n",
       "      <td>1.0</td>\n",
       "    </tr>\n",
       "    <tr>\n",
       "      <th>...</th>\n",
       "      <td>...</td>\n",
       "      <td>...</td>\n",
       "      <td>...</td>\n",
       "    </tr>\n",
       "    <tr>\n",
       "      <th>2791</th>\n",
       "      <td>Opperheimer_Funds</td>\n",
       "      <td>Tremont_Group_Holdings</td>\n",
       "      <td>1.0</td>\n",
       "    </tr>\n",
       "    <tr>\n",
       "      <th>3695</th>\n",
       "      <td>Nomura_Holdings</td>\n",
       "      <td>Bernard_Madoff_Investment</td>\n",
       "      <td>1.0</td>\n",
       "    </tr>\n",
       "    <tr>\n",
       "      <th>2789</th>\n",
       "      <td>Maxam_Absolute_Return_Fund</td>\n",
       "      <td>Tremont_Group_Holdings</td>\n",
       "      <td>1.0</td>\n",
       "    </tr>\n",
       "    <tr>\n",
       "      <th>3699</th>\n",
       "      <td>Man_Group_PLC</td>\n",
       "      <td>Bernard_Madoff_Investment</td>\n",
       "      <td>1.0</td>\n",
       "    </tr>\n",
       "    <tr>\n",
       "      <th>2490</th>\n",
       "      <td>Meridian_Capital_Partners</td>\n",
       "      <td>Notz_Stucki_Cie</td>\n",
       "      <td>0.0</td>\n",
       "    </tr>\n",
       "  </tbody>\n",
       "</table>\n",
       "<p>62 rows × 3 columns</p>\n",
       "</div>"
      ],
      "text/plain": [
       "                           firm1                      firm2  relationship\n",
       "3684           Sumitomo_Life_Ins  Bernard_Madoff_Investment           1.0\n",
       "3676           Zeus_Partners_Ltd  Bernard_Madoff_Investment           1.0\n",
       "1680       Union_Bancaire_Privee        Fairfield_Greenwich           1.0\n",
       "3671         Access_Int_Advisors  Bernard_Madoff_Investment           1.0\n",
       "3672                 BNP_Paribas  Bernard_Madoff_Investment           1.0\n",
       "...                          ...                        ...           ...\n",
       "2791           Opperheimer_Funds     Tremont_Group_Holdings           1.0\n",
       "3695             Nomura_Holdings  Bernard_Madoff_Investment           1.0\n",
       "2789  Maxam_Absolute_Return_Fund     Tremont_Group_Holdings           1.0\n",
       "3699               Man_Group_PLC  Bernard_Madoff_Investment           1.0\n",
       "2490   Meridian_Capital_Partners            Notz_Stucki_Cie           0.0\n",
       "\n",
       "[62 rows x 3 columns]"
      ]
     },
     "execution_count": 29,
     "metadata": {},
     "output_type": "execute_result"
    }
   ],
   "source": [
    "melted_sorted.head(62)"
   ]
  },
  {
   "cell_type": "markdown",
   "metadata": {},
   "source": [
    "take the rows with positive values in the relationship column and put them in a separate dataframe"
   ]
  },
  {
   "cell_type": "code",
   "execution_count": 30,
   "metadata": {},
   "outputs": [],
   "source": [
    "graph_df = melted_sorted.iloc[:61]"
   ]
  },
  {
   "cell_type": "code",
   "execution_count": 31,
   "metadata": {},
   "outputs": [
    {
     "data": {
      "text/html": [
       "<div>\n",
       "<style scoped>\n",
       "    .dataframe tbody tr th:only-of-type {\n",
       "        vertical-align: middle;\n",
       "    }\n",
       "\n",
       "    .dataframe tbody tr th {\n",
       "        vertical-align: top;\n",
       "    }\n",
       "\n",
       "    .dataframe thead th {\n",
       "        text-align: right;\n",
       "    }\n",
       "</style>\n",
       "<table border=\"1\" class=\"dataframe\">\n",
       "  <thead>\n",
       "    <tr style=\"text-align: right;\">\n",
       "      <th></th>\n",
       "      <th>firm1</th>\n",
       "      <th>firm2</th>\n",
       "      <th>relationship</th>\n",
       "    </tr>\n",
       "  </thead>\n",
       "  <tbody>\n",
       "    <tr>\n",
       "      <th>3684</th>\n",
       "      <td>Sumitomo_Life_Ins</td>\n",
       "      <td>Bernard_Madoff_Investment</td>\n",
       "      <td>1.0</td>\n",
       "    </tr>\n",
       "    <tr>\n",
       "      <th>3676</th>\n",
       "      <td>Zeus_Partners_Ltd</td>\n",
       "      <td>Bernard_Madoff_Investment</td>\n",
       "      <td>1.0</td>\n",
       "    </tr>\n",
       "    <tr>\n",
       "      <th>1680</th>\n",
       "      <td>Union_Bancaire_Privee</td>\n",
       "      <td>Fairfield_Greenwich</td>\n",
       "      <td>1.0</td>\n",
       "    </tr>\n",
       "    <tr>\n",
       "      <th>3671</th>\n",
       "      <td>Access_Int_Advisors</td>\n",
       "      <td>Bernard_Madoff_Investment</td>\n",
       "      <td>1.0</td>\n",
       "    </tr>\n",
       "    <tr>\n",
       "      <th>3672</th>\n",
       "      <td>BNP_Paribas</td>\n",
       "      <td>Bernard_Madoff_Investment</td>\n",
       "      <td>1.0</td>\n",
       "    </tr>\n",
       "  </tbody>\n",
       "</table>\n",
       "</div>"
      ],
      "text/plain": [
       "                      firm1                      firm2  relationship\n",
       "3684      Sumitomo_Life_Ins  Bernard_Madoff_Investment           1.0\n",
       "3676      Zeus_Partners_Ltd  Bernard_Madoff_Investment           1.0\n",
       "1680  Union_Bancaire_Privee        Fairfield_Greenwich           1.0\n",
       "3671    Access_Int_Advisors  Bernard_Madoff_Investment           1.0\n",
       "3672            BNP_Paribas  Bernard_Madoff_Investment           1.0"
      ]
     },
     "execution_count": 31,
     "metadata": {},
     "output_type": "execute_result"
    }
   ],
   "source": [
    "graph_df.head()"
   ]
  },
  {
   "cell_type": "code",
   "execution_count": 32,
   "metadata": {},
   "outputs": [
    {
     "data": {
      "text/html": [
       "<div>\n",
       "<style scoped>\n",
       "    .dataframe tbody tr th:only-of-type {\n",
       "        vertical-align: middle;\n",
       "    }\n",
       "\n",
       "    .dataframe tbody tr th {\n",
       "        vertical-align: top;\n",
       "    }\n",
       "\n",
       "    .dataframe thead th {\n",
       "        text-align: right;\n",
       "    }\n",
       "</style>\n",
       "<table border=\"1\" class=\"dataframe\">\n",
       "  <thead>\n",
       "    <tr style=\"text-align: right;\">\n",
       "      <th></th>\n",
       "      <th>firm1</th>\n",
       "      <th>firm2</th>\n",
       "      <th>relationship</th>\n",
       "    </tr>\n",
       "  </thead>\n",
       "  <tbody>\n",
       "    <tr>\n",
       "      <th>2310</th>\n",
       "      <td>Kingate_Euro_Fund</td>\n",
       "      <td>FIM_Advisers</td>\n",
       "      <td>1.0</td>\n",
       "    </tr>\n",
       "    <tr>\n",
       "      <th>2791</th>\n",
       "      <td>Opperheimer_Funds</td>\n",
       "      <td>Tremont_Group_Holdings</td>\n",
       "      <td>1.0</td>\n",
       "    </tr>\n",
       "    <tr>\n",
       "      <th>3695</th>\n",
       "      <td>Nomura_Holdings</td>\n",
       "      <td>Bernard_Madoff_Investment</td>\n",
       "      <td>1.0</td>\n",
       "    </tr>\n",
       "    <tr>\n",
       "      <th>2789</th>\n",
       "      <td>Maxam_Absolute_Return_Fund</td>\n",
       "      <td>Tremont_Group_Holdings</td>\n",
       "      <td>1.0</td>\n",
       "    </tr>\n",
       "    <tr>\n",
       "      <th>3699</th>\n",
       "      <td>Man_Group_PLC</td>\n",
       "      <td>Bernard_Madoff_Investment</td>\n",
       "      <td>1.0</td>\n",
       "    </tr>\n",
       "  </tbody>\n",
       "</table>\n",
       "</div>"
      ],
      "text/plain": [
       "                           firm1                      firm2  relationship\n",
       "2310           Kingate_Euro_Fund               FIM_Advisers           1.0\n",
       "2791           Opperheimer_Funds     Tremont_Group_Holdings           1.0\n",
       "3695             Nomura_Holdings  Bernard_Madoff_Investment           1.0\n",
       "2789  Maxam_Absolute_Return_Fund     Tremont_Group_Holdings           1.0\n",
       "3699               Man_Group_PLC  Bernard_Madoff_Investment           1.0"
      ]
     },
     "execution_count": 32,
     "metadata": {},
     "output_type": "execute_result"
    }
   ],
   "source": [
    "graph_df.tail()"
   ]
  },
  {
   "cell_type": "markdown",
   "metadata": {},
   "source": [
    "create the network graph"
   ]
  },
  {
   "cell_type": "code",
   "execution_count": 69,
   "metadata": {},
   "outputs": [],
   "source": [
    "G = nx.from_pandas_edgelist(graph_df, 'firm1', 'firm2', edge_attr = True)"
   ]
  },
  {
   "cell_type": "markdown",
   "metadata": {},
   "source": [
    "get summary statistics about the graph"
   ]
  },
  {
   "cell_type": "code",
   "execution_count": 70,
   "metadata": {},
   "outputs": [
    {
     "data": {
      "text/plain": [
       "0.03333333333333333"
      ]
     },
     "execution_count": 70,
     "metadata": {},
     "output_type": "execute_result"
    }
   ],
   "source": [
    "nx.density(G)"
   ]
  },
  {
   "cell_type": "code",
   "execution_count": 71,
   "metadata": {},
   "outputs": [
    {
     "data": {
      "text/plain": [
       "61"
      ]
     },
     "execution_count": 71,
     "metadata": {},
     "output_type": "execute_result"
    }
   ],
   "source": [
    "nx.number_of_edges(G)"
   ]
  },
  {
   "cell_type": "markdown",
   "metadata": {},
   "source": [
    "\"figure out the most effective node to remove,\" per the assignment instructions"
   ]
  },
  {
   "cell_type": "code",
   "execution_count": 72,
   "metadata": {},
   "outputs": [
    {
     "name": "stdout",
     "output_type": "stream",
     "text": [
      "[('Bernard_Madoff_Investment', 0.936723163841808), ('Cohmad_securities', 0.2593220338983051), ('Bank_Medici', 0.2480225988700565), ('Fairfield_Greenwich', 0.19152542372881357), ('Tremont_Group_Holdings', 0.188135593220339), ('Gabriel_Capital', 0.16045197740112996), ('Rye_Investment_Funds', 0.09830508474576272), ('FIM_Advisers', 0.09774011299435029), ('Thema_Fund', 0.06610169491525424), ('Zeus_Partners_Ltd', 0.03333333333333333), ('Access_Int_Advisors', 0.03333333333333333), ('Brighton_Co', 0.03333333333333333), ('Banco_Santander', 0.03333333333333333), ('Kingate_Global_Fund', 0.03333333333333333), ('Ariel_Capital', 0.03333333333333333), ('Herald_Lux_Fund', 0.03333333333333333), ('Pioneer_Alt_Investments', 0.03333333333333333), ('Sumitomo_Life_Ins', 0.0), ('Union_Bancaire_Privee', 0.0), ('BNP_Paribas', 0.0), ('EIM_Group', 0.0), ('Nipponkoa_Insurance', 0.0), ('Mirabaud_Cie', 0.0), ('Rothschild_Cie', 0.0), ('Great_Eastern_Holdings', 0.0), ('Avellino_Bienes', 0.0), ('Neu_Privat_Bank', 0.0), ('Optimal_Strategic_US', 0.0), ('Prospect_Capital', 0.0), ('Genium_Advisors', 0.0), ('Fix_Asset_Mgt', 0.0), ('Meridian_Capital_Partners', 0.0), ('Fortis_Bank_Nederland', 0.0), ('Spring_Mountain_Capital', 0.0), ('Sterling_Stamos_Capital_Mgt', 0.0), ('Bradean_Alternatives_Lts', 0.0), ('Ascot_Partners', 0.0), ('Austin_Capital', 0.0), ('HSBC_Holdings', 0.0), ('Banco_Safra', 0.0), ('Phoenix_Holdings', 0.0), ('Genevalor_Benbassat', 0.0), ('Nordea_Bank_AB', 0.0), ('UniCredit_SpA', 0.0), ('Banque_Benedict_HentchCie', 0.0), ('Fukoku_Mutual_Life', 0.0), ('Credicorp_Ltd', 0.0), ('Banco_Bilbao_Vizcaya_Argentaria', 0.0), ('Capital_Bank_Austria', 0.0), ('CMG', 0.0), ('EFG_International_AG', 0.0), ('S&P_Investment', 0.0), ('Notz_Stucki_Cie', 0.0), ('Sterling_Equities', 0.0), ('M&B_Capital_Advisors', 0.0), ('Stanford_Capital_Mgt', 0.0), ('Kingate_Euro_Fund', 0.0), ('Opperheimer_Funds', 0.0), ('Nomura_Holdings', 0.0), ('Maxam_Absolute_Return_Fund', 0.0), ('Man_Group_PLC', 0.0)]\n"
     ]
    }
   ],
   "source": [
    "btwn_cent = sorted(nx.betweenness_centrality(G).items(), key=lambda x:x[1], reverse = True)\n",
    "print(btwn_cent)"
   ]
  },
  {
   "cell_type": "markdown",
   "metadata": {},
   "source": [
    "remove the most effective node"
   ]
  },
  {
   "cell_type": "code",
   "execution_count": 73,
   "metadata": {},
   "outputs": [],
   "source": [
    "G.remove_node(btwn_cent[0][0])"
   ]
  },
  {
   "cell_type": "markdown",
   "metadata": {},
   "source": [
    "note the change in the summary statistics, which show a lower density, reduced number of edges, and lower betweenness centrality"
   ]
  },
  {
   "cell_type": "code",
   "execution_count": 74,
   "metadata": {},
   "outputs": [
    {
     "data": {
      "text/plain": [
       "0.0192090395480226"
      ]
     },
     "execution_count": 74,
     "metadata": {},
     "output_type": "execute_result"
    }
   ],
   "source": [
    "nx.density(G)"
   ]
  },
  {
   "cell_type": "code",
   "execution_count": 75,
   "metadata": {},
   "outputs": [
    {
     "data": {
      "text/plain": [
       "34"
      ]
     },
     "execution_count": 75,
     "metadata": {},
     "output_type": "execute_result"
    }
   ],
   "source": [
    "nx.number_of_edges(G)"
   ]
  },
  {
   "cell_type": "code",
   "execution_count": 76,
   "metadata": {},
   "outputs": [
    {
     "name": "stdout",
     "output_type": "stream",
     "text": [
      "[('Bank_Medici', 0.018118059614260665), ('Fairfield_Greenwich', 0.008766803039158387), ('Thema_Fund', 0.008766803039158387), ('Rye_Investment_Funds', 0.007013442431326709), ('Gabriel_Capital', 0.0052600818234950315), ('Tremont_Group_Holdings', 0.0052600818234950315), ('Herald_Lux_Fund', 0.004675628287551139), ('Pioneer_Alt_Investments', 0.004675628287551139), ('Ariel_Capital', 0.0023378141437755697), ('Kingate_Global_Fund', 0.0011689070718877848), ('FIM_Advisers', 0.0011689070718877848), ('Sumitomo_Life_Ins', 0.0), ('Zeus_Partners_Ltd', 0.0), ('Union_Bancaire_Privee', 0.0), ('Access_Int_Advisors', 0.0), ('BNP_Paribas', 0.0), ('EIM_Group', 0.0), ('Nipponkoa_Insurance', 0.0), ('Mirabaud_Cie', 0.0), ('Rothschild_Cie', 0.0), ('Great_Eastern_Holdings', 0.0), ('Brighton_Co', 0.0), ('Avellino_Bienes', 0.0), ('Neu_Privat_Bank', 0.0), ('Banco_Santander', 0.0), ('Optimal_Strategic_US', 0.0), ('Prospect_Capital', 0.0), ('Genium_Advisors', 0.0), ('Fix_Asset_Mgt', 0.0), ('Meridian_Capital_Partners', 0.0), ('Fortis_Bank_Nederland', 0.0), ('Spring_Mountain_Capital', 0.0), ('Sterling_Stamos_Capital_Mgt', 0.0), ('Bradean_Alternatives_Lts', 0.0), ('Ascot_Partners', 0.0), ('Austin_Capital', 0.0), ('HSBC_Holdings', 0.0), ('Cohmad_securities', 0.0), ('Banco_Safra', 0.0), ('Phoenix_Holdings', 0.0), ('Genevalor_Benbassat', 0.0), ('Nordea_Bank_AB', 0.0), ('UniCredit_SpA', 0.0), ('Banque_Benedict_HentchCie', 0.0), ('Fukoku_Mutual_Life', 0.0), ('Credicorp_Ltd', 0.0), ('Banco_Bilbao_Vizcaya_Argentaria', 0.0), ('Capital_Bank_Austria', 0.0), ('CMG', 0.0), ('EFG_International_AG', 0.0), ('S&P_Investment', 0.0), ('Notz_Stucki_Cie', 0.0), ('Sterling_Equities', 0.0), ('M&B_Capital_Advisors', 0.0), ('Stanford_Capital_Mgt', 0.0), ('Kingate_Euro_Fund', 0.0), ('Opperheimer_Funds', 0.0), ('Nomura_Holdings', 0.0), ('Maxam_Absolute_Return_Fund', 0.0), ('Man_Group_PLC', 0.0)]\n"
     ]
    }
   ],
   "source": [
    "btwn_cent = sorted(nx.betweenness_centrality(G).items(), key=lambda x:x[1], reverse = True)\n",
    "print(btwn_cent)"
   ]
  },
  {
   "cell_type": "code",
   "execution_count": null,
   "metadata": {},
   "outputs": [],
   "source": []
  }
 ],
 "metadata": {
  "kernelspec": {
   "display_name": "Python 3",
   "language": "python",
   "name": "python3"
  },
  "language_info": {
   "codemirror_mode": {
    "name": "ipython",
    "version": 3
   },
   "file_extension": ".py",
   "mimetype": "text/x-python",
   "name": "python",
   "nbconvert_exporter": "python",
   "pygments_lexer": "ipython3",
   "version": "3.8.5"
  }
 },
 "nbformat": 4,
 "nbformat_minor": 4
}
